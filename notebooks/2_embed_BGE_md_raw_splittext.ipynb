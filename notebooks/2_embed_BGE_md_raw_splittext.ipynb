{
 "cells": [
  {
   "cell_type": "code",
   "execution_count": 1,
   "metadata": {},
   "outputs": [],
   "source": [
    "import os\n",
    "from langchain.embeddings import HuggingFaceBgeEmbeddings\n",
    "from langchain.llms import LlamaCpp\n",
    "from langchain.callbacks.manager import CallbackManager\n",
    "from langchain.callbacks.streaming_stdout import StreamingStdOutCallbackHandler\n",
    "import chromadb\n",
    "from langchain.text_splitter import RecursiveCharacterTextSplitter\n"
   ]
  },
  {
   "cell_type": "code",
   "execution_count": 2,
   "metadata": {},
   "outputs": [
    {
     "name": "stderr",
     "output_type": "stream",
     "text": [
      "/opt/homebrew/Caskroom/miniconda/base/envs/llm310/lib/python3.10/site-packages/tqdm/auto.py:21: TqdmWarning: IProgress not found. Please update jupyter and ipywidgets. See https://ipywidgets.readthedocs.io/en/stable/user_install.html\n",
      "  from .autonotebook import tqdm as notebook_tqdm\n"
     ]
    }
   ],
   "source": [
    "model_name = \"BAAI/bge-base-en\"\n",
    "model_kwargs = {'device': 'cpu'}\n",
    "encode_kwargs = {'normalize_embeddings': True}\n",
    "hf = HuggingFaceBgeEmbeddings(\n",
    "    model_name=model_name,\n",
    "    model_kwargs=model_kwargs,\n",
    "    encode_kwargs=encode_kwargs\n",
    ")"
   ]
  },
  {
   "cell_type": "code",
   "execution_count": 3,
   "metadata": {},
   "outputs": [
    {
     "name": "stderr",
     "output_type": "stream",
     "text": [
      "llama_model_loader: loaded meta data with 20 key-value pairs and 291 tensors from /Users/admin/Developer/models/meta/codellama/codellama-7b-instruct.Q5_K_M.gguf (version GGUF V2)\n",
      "llama_model_loader: Dumping metadata keys/values. Note: KV overrides do not apply in this output.\n",
      "llama_model_loader: - kv   0:                       general.architecture str              = llama\n",
      "llama_model_loader: - kv   1:                               general.name str              = codellama_codellama-7b-instruct-hf\n",
      "llama_model_loader: - kv   2:                       llama.context_length u32              = 16384\n",
      "llama_model_loader: - kv   3:                     llama.embedding_length u32              = 4096\n",
      "llama_model_loader: - kv   4:                          llama.block_count u32              = 32\n",
      "llama_model_loader: - kv   5:                  llama.feed_forward_length u32              = 11008\n",
      "llama_model_loader: - kv   6:                 llama.rope.dimension_count u32              = 128\n",
      "llama_model_loader: - kv   7:                 llama.attention.head_count u32              = 32\n",
      "llama_model_loader: - kv   8:              llama.attention.head_count_kv u32              = 32\n",
      "llama_model_loader: - kv   9:     llama.attention.layer_norm_rms_epsilon f32              = 0.000010\n",
      "llama_model_loader: - kv  10:                       llama.rope.freq_base f32              = 1000000.000000\n",
      "llama_model_loader: - kv  11:                          general.file_type u32              = 17\n",
      "llama_model_loader: - kv  12:                       tokenizer.ggml.model str              = llama\n",
      "llama_model_loader: - kv  13:                      tokenizer.ggml.tokens arr[str,32016]   = [\"<unk>\", \"<s>\", \"</s>\", \"<0x00>\", \"<...\n",
      "llama_model_loader: - kv  14:                      tokenizer.ggml.scores arr[f32,32016]   = [0.000000, 0.000000, 0.000000, 0.0000...\n",
      "llama_model_loader: - kv  15:                  tokenizer.ggml.token_type arr[i32,32016]   = [2, 3, 3, 6, 6, 6, 6, 6, 6, 6, 6, 6, ...\n",
      "llama_model_loader: - kv  16:                tokenizer.ggml.bos_token_id u32              = 1\n",
      "llama_model_loader: - kv  17:                tokenizer.ggml.eos_token_id u32              = 2\n",
      "llama_model_loader: - kv  18:            tokenizer.ggml.unknown_token_id u32              = 0\n",
      "llama_model_loader: - kv  19:               general.quantization_version u32              = 2\n",
      "llama_model_loader: - type  f32:   65 tensors\n",
      "llama_model_loader: - type q5_K:  193 tensors\n",
      "llama_model_loader: - type q6_K:   33 tensors\n",
      "llm_load_vocab: mismatch in special tokens definition ( 264/32016 vs 259/32016 ).\n",
      "llm_load_print_meta: format           = GGUF V2\n",
      "llm_load_print_meta: arch             = llama\n",
      "llm_load_print_meta: vocab type       = SPM\n",
      "llm_load_print_meta: n_vocab          = 32016\n",
      "llm_load_print_meta: n_merges         = 0\n",
      "llm_load_print_meta: n_ctx_train      = 16384\n",
      "llm_load_print_meta: n_embd           = 4096\n",
      "llm_load_print_meta: n_head           = 32\n",
      "llm_load_print_meta: n_head_kv        = 32\n",
      "llm_load_print_meta: n_layer          = 32\n",
      "llm_load_print_meta: n_rot            = 128\n",
      "llm_load_print_meta: n_embd_head_k    = 128\n",
      "llm_load_print_meta: n_embd_head_v    = 128\n",
      "llm_load_print_meta: n_gqa            = 1\n",
      "llm_load_print_meta: n_embd_k_gqa     = 4096\n",
      "llm_load_print_meta: n_embd_v_gqa     = 4096\n",
      "llm_load_print_meta: f_norm_eps       = 0.0e+00\n",
      "llm_load_print_meta: f_norm_rms_eps   = 1.0e-05\n",
      "llm_load_print_meta: f_clamp_kqv      = 0.0e+00\n",
      "llm_load_print_meta: f_max_alibi_bias = 0.0e+00\n",
      "llm_load_print_meta: n_ff             = 11008\n",
      "llm_load_print_meta: n_expert         = 0\n",
      "llm_load_print_meta: n_expert_used    = 0\n",
      "llm_load_print_meta: rope scaling     = linear\n",
      "llm_load_print_meta: freq_base_train  = 1000000.0\n",
      "llm_load_print_meta: freq_scale_train = 1\n",
      "llm_load_print_meta: n_yarn_orig_ctx  = 16384\n",
      "llm_load_print_meta: rope_finetuned   = unknown\n",
      "llm_load_print_meta: model type       = 7B\n",
      "llm_load_print_meta: model ftype      = Q5_K - Medium\n",
      "llm_load_print_meta: model params     = 6.74 B\n",
      "llm_load_print_meta: model size       = 4.45 GiB (5.68 BPW) \n",
      "llm_load_print_meta: general.name     = codellama_codellama-7b-instruct-hf\n",
      "llm_load_print_meta: BOS token        = 1 '<s>'\n",
      "llm_load_print_meta: EOS token        = 2 '</s>'\n",
      "llm_load_print_meta: UNK token        = 0 '<unk>'\n",
      "llm_load_print_meta: LF token         = 13 '<0x0A>'\n",
      "llm_load_tensors: ggml ctx size       =    0.11 MiB\n",
      "llm_load_tensors: system memory used  = 4561.07 MiB\n",
      "...................................................................................................\n",
      "llama_new_context_with_model: n_ctx      = 4096\n",
      "llama_new_context_with_model: freq_base  = 10000.0\n",
      "llama_new_context_with_model: freq_scale = 1\n",
      "llama_new_context_with_model: KV self size  = 2048.00 MiB, K (f16): 1024.00 MiB, V (f16): 1024.00 MiB\n",
      "llama_build_graph: non-view tensors processed: 676/676\n",
      "AVX = 0 | AVX_VNNI = 0 | AVX2 = 0 | AVX512 = 0 | AVX512_VBMI = 0 | AVX512_VNNI = 0 | FMA = 0 | NEON = 1 | ARM_FMA = 1 | F16C = 0 | FP16_VA = 1 | WASM_SIMD = 0 | BLAS = 1 | SSE3 = 0 | SSSE3 = 0 | VSX = 0 | \n",
      "llama_new_context_with_model: compute buffer total size = 7.69 MiB\n"
     ]
    }
   ],
   "source": [
    "# from langchain.llms import LlamaCpp\n",
    "llm = LlamaCpp(\n",
    "    model_path=\"/Users/admin/Developer/models/meta/codellama/codellama-7b-instruct.Q5_K_M.gguf\",\n",
    "    #n_gpu_layers=99,\n",
    "    #n_batch=512,\n",
    "    n_ctx=4096,\n",
    "    # f16_kv=True,  \n",
    "    callback_manager=CallbackManager([StreamingStdOutCallbackHandler()]),\n",
    "    verbose=True,\n",
    ")"
   ]
  },
  {
   "cell_type": "code",
   "execution_count": 4,
   "metadata": {},
   "outputs": [],
   "source": [
    "page_files = sorted(os.listdir('../data/1_html_to_md/'))\n",
    "# page_ids = list(map(lambda x: x.split('.')[0], page_files))\n",
    "\n",
    "pages = []\n",
    "for page_file in page_files:\n",
    "    page = open(f'../data/1_html_to_md/{page_file}', 'r').read()\n",
    "    pages.append(page)\n",
    "\n",
    "whole_dataset = \"\\n\".join(pages)"
   ]
  },
  {
   "cell_type": "code",
   "execution_count": 5,
   "metadata": {},
   "outputs": [],
   "source": [
    "cs = 1000\n",
    "co = 0 \n",
    "text_splitter = RecursiveCharacterTextSplitter(chunk_size=cs, chunk_overlap=co)\n",
    "texts = text_splitter.split_text(whole_dataset)"
   ]
  },
  {
   "cell_type": "code",
   "execution_count": 6,
   "metadata": {},
   "outputs": [
    {
     "data": {
      "text/plain": [
       "5220"
      ]
     },
     "execution_count": 6,
     "metadata": {},
     "output_type": "execute_result"
    }
   ],
   "source": [
    "len(texts)"
   ]
  },
  {
   "cell_type": "code",
   "execution_count": 8,
   "metadata": {},
   "outputs": [],
   "source": [
    "embeddings = hf.embed_documents(texts)"
   ]
  },
  {
   "cell_type": "code",
   "execution_count": 9,
   "metadata": {},
   "outputs": [],
   "source": [
    "client = chromadb.PersistentClient(path=\"chroma/cibc_public_pages_personal_banking_BGE\")\n",
    "# checks whether collection exists\n",
    "\n",
    "collection = client.get_or_create_collection(name=\"cibc_public_pages_personal_banking_split_BGE\", metadata={\"hnsw:space\": \"cosine\"})"
   ]
  },
  {
   "cell_type": "code",
   "execution_count": 10,
   "metadata": {},
   "outputs": [],
   "source": [
    "metadatas = []\n",
    "for page_name in page_files:\n",
    "    tags = page_name.split(\".\")[0].split(\"_\")\n",
    "    tags = list(filter(lambda x: len(x) > 1, tags))\n",
    "    tags_dict = {f\"tag_{i}\":tags[i] for i in range(len(tags))}\n",
    "    metadatas.append(tags_dict)"
   ]
  },
  {
   "cell_type": "code",
   "execution_count": 11,
   "metadata": {},
   "outputs": [],
   "source": [
    "page_ids = [f\"doc_{i}\" for i in range(len(texts))]"
   ]
  },
  {
   "cell_type": "code",
   "execution_count": 12,
   "metadata": {},
   "outputs": [],
   "source": [
    "collection.add(\n",
    "    documents=texts,\n",
    "    embeddings=embeddings,\n",
    "    # metadatas=metadatas,\n",
    "    ids=page_ids,\n",
    ")"
   ]
  },
  {
   "cell_type": "code",
   "execution_count": 13,
   "metadata": {},
   "outputs": [],
   "source": [
    "question = \"What are the credit cards offered by CIBC and what are some questions that I should ask my client to decide which one is the best fit for them?\"\n",
    "q_embedding = hf.embed_query(question)\n",
    "response = collection.query(\n",
    "    query_embeddings=q_embedding,\n",
    "    n_results=10,\n",
    "    include=[\"documents\", \"distances\"],\n",
    "    #where={\"metadata_field\": \"is_equal_to_this\"},\n",
    "    #where_document={\"$contains\":\"sock\"}\n",
    ")"
   ]
  },
  {
   "cell_type": "code",
   "execution_count": 14,
   "metadata": {},
   "outputs": [
    {
     "data": {
      "text/plain": [
       "{'ids': [['doc_4718',\n",
       "   'doc_4456',\n",
       "   'doc_749',\n",
       "   'doc_665',\n",
       "   'doc_624',\n",
       "   'doc_664',\n",
       "   'doc_632',\n",
       "   'doc_305',\n",
       "   'doc_2',\n",
       "   'doc_517']],\n",
       " 'distances': [[0.11698174476623535,\n",
       "   0.1271049976348877,\n",
       "   0.12733739614486694,\n",
       "   0.1276116967201233,\n",
       "   0.12782293558120728,\n",
       "   0.12910884618759155,\n",
       "   0.12940311431884766,\n",
       "   0.13134276866912842,\n",
       "   0.1316523551940918,\n",
       "   0.13515597581863403]],\n",
       " 'metadatas': None,\n",
       " 'embeddings': None,\n",
       " 'documents': [['Need help choosing a bank account, credit card or learning about credit card rewards? These tools make it easy.\\n \\n\\n Bank account selector\\n \\n\\n Chequing, savings or both? Find out which CIBC bank account is right for you.\\n \\n\\n Credit card selector\\n \\n\\n Answer key questions to find the right credit card for\\n \\n your needs.\\n \\n\\n Credit card rewards calculator\\n \\n\\n Find out how many reward points you could be earning with a CIBC\\n \\n credit card.\\n \\n\\n Smart Advice virtual events\\n------------------------------\\n\\n Join us for our Smart Advice virtual events to learn from our experts about investing, estate planning, goal-setting and more.\\n \\n\\n View events\\n \\n\\n Ready to take charge of\\n \\n your finances?\\n--------------------------------------------\\n\\n Get in touch. We’re here\\n \\n to help.\\n \\n\\n Meet with us\\n \\n\\n Opens in a new window.\\n \\n\\n Call us\\n \\n\\n Opens in a new window.\\n \\n\\n Find a CIBC\\n \\n Banking Centre\\n \\n\\n Opens in a new window.\\n \\n\\n\\n\\n\\n Smart Advice\\n \\n\\n Tools and calculators',\n",
       "   'Select a product to go over your options\\n--------------------------------------------\\n\\n Select a product to go over your options\\n \\n\\n CIBC credit card\\n \\n\\n Do you have a CIBC Visa\\\\\\\\*?\\n \\n\\n Yes\\n \\n\\n No\\n \\n\\n Is your card a CIBC Aventura Visa\\\\\\\\*?\\n \\n\\n Yes\\n \\n\\n No\\n \\n\\n Do you have creditor insurance on your CIBC credit card?\\n \\n\\n Yes\\n \\n\\n No\\n \\n\\n CIBC line of credit\\n \\n1 \\n\\n Do you have creditor insurance on your CIBC line of credit?\\n \\n\\n Yes\\n \\n\\n No\\n \\n\\n CIBC Overdraft Protection Service\\n \\n\\n CIBC loan\\n \\n1, 2 \\n\\n Do you have creditor insurance on your CIBC loan?\\n \\n\\n Yes\\n \\n\\n No\\n \\n\\n CIBC mortgage\\n \\n\\n Do you have creditor insurance on your CIBC mortgage?\\n \\n\\n Yes\\n \\n\\n No\\n \\n\\n Recommended solutions\\n-----------------------\\n\\n Recommended solutions\\n-------------------------\\n\\n We need a bit more information from you to make a recommendation.\\n \\n\\n Edit my answers\\n \\n\\n Explore our solutions\\n------------------------',\n",
       "   '\\\\* Carry it with you in your wallet, particularly if you are travelling, in case your primary card is denied.\\n\\\\* Ensure you will still have access to credit if your wallet is lost or stolen by keeping a card at home.\\n\\n Explore credit card offers from CIBC\\n----------------------------------------\\n\\n CIBC has several types of credit cards, including those with cash back and travel rewards programs. Find the cards that best fit your needs by using the\\n \\n credit card selector tool\\n \\n . If you have questions about CIBC credit cards or need further help choosing one, you can reach a customer care representative at\\xa01-800-465-4653.\\n \\n\\n More articles\\n \\n More articles about C I B C credit cards\\n \\n\\n---\\n\\n Tools and advice\\n \\n\\\\* Credit Card Rewards\\n\\\\* How to read your credit card statement\\n\\\\* How to find the right credit card for your business\\n\\n---\\n\\n Get started\\n--------------\\n\\n Apply online\\n \\n\\n for a C I B C credit card\\n \\n\\n Call us:\\n \\n 1-800-465-4653\\n \\n\\n to apply for a C I B C credit card',\n",
       "   '---\\n\\n Choose the best CIBC credit card for you\\n-------------------------------------------\\n\\n Finding the right credit card depends on your spending habits, lifestyle and financial situation. We have different card options with different benefits. Choose from travel rewards cards,\\xa0 cash back cards, student cards, and everyday use cards.\\n \\n\\n### \\n\\n Travel rewards credit cards\\n\\n A travel credit card is a great choice if you enjoy traveling. You can earn points on everyday purchases and use them towards your next\\n \\n adventure — big\\n \\n or small.\\n \\n\\n Learn more\\n \\n about travel rewards cards.\\n \\n\\n### \\n\\n Cash back credit cards\\n\\n With a cash back credit card, you can earn cash back on everyday purchases. Plus, maximize your cash back rewards when you spend on certain categories.\\n \\n\\n Learn more\\n \\n about cash back cards.\\n \\n\\n### \\n\\n No annual fee credit cards',\n",
       "   'Apply now\\n \\n\\n for the CIBC Dividend Platinum Visa Card. Opens in a new window.\\n \\n\\n Get started\\n--------------\\n\\n Call us:\\n \\n 1-866-525-8622\\n \\n\\n Opens your phone app.\\n \\n\\n Find a Banking Centre\\n \\n\\n Opens in a new window.\\n \\n\\n Meet with us\\n \\n\\n Opens in a new window.\\n \\n\\n Not the right card for you?\\n------------------------------\\n\\n Here are a few more that could suit you better.\\n \\n\\n CIBC Dividend\\n ® \\n Visa Infinite\\\\\\\\* Card\\n \\n\\n CIBC Dividend\\n ® \\n\\n Visa\\\\\\\\* Card\\n \\n\\n Explore all cash back cards\\n \\n\\n\\n\\n\\n Credit Cards\\n \\n\\n\\\\* Compare All CIBC Credit Cards\\n\\\\* Credit Card Finder\\n\\\\* Rewards Credit Cards\\n\\\\* Manage My Card\\n\\\\* Tips and Advice\\n\\\\* Costco Cards\\n\\\\* How to read your credit card statement\\n\\n Low Interest Cards\\n \\n\\n CIBC Select\\xa0Visa\\\\\\\\* Card\\n============================\\n\\n Reduce interest payments with a low interest rate credit card.\\n \\n\\n \\n\\n Welcome offer\\n \\n\\n Transfer your credit card balance — get 0% interest for up to 10 months with a 1% transfer fee\\n ⓘ\\n and a first year annual fee rebate\\n ⓘ\\n .',\n",
       "   'Applying for a credit card is a great first step in building your credit history and improving your financial\\n \\n well-being — if\\n \\n you use your card responsibly. You can speed up the credit card application process by having the right information ready before you apply. If you’re\\xa0 not sure which card to pick, we’ll help you choose the best CIBC credit card for you.\\n \\n\\n---\\n\\n What information do I need to apply?\\n---------------------------------------\\n\\n Applying for a credit card with us is easy, but you’ll need to provide some important details first:\\n \\n\\n\\\\* Full legal name and date of birth\\n\\\\* Home address, phone number and email address\\n\\\\* Current and previous employers\\n\\\\* Gross annual income\\n\\\\* Social Insurance Number (optional)\\n\\\\* Information on other credit cards you hold\\n\\n Missing these details could delay the approval process or result in a denial. If you’re unsure of how to answer a question on your application, call us at\\n \\n 1-866-525-8622\\n \\n Opens your phone app.\\n \\n\\n .',\n",
       "   \"Credit Card Privacy Disclosures, Terms and Conditions\\n \\n (PDF, 125 KB)\\n \\n\\n Opens in a new window.\\n \\n\\n Information on upcoming changes to your CIBC Credit Card Account effective December 2023\\n \\n (PDF, 45 KB)\\n \\n\\n Opens in a new window.\\n \\n\\n CIBC Select Visa Card\\n \\n\\n Ready to cash in on a lower interest rate?\\n---------------------------------------------\\n\\n Applying takes about 5 minutes, and you'll get a response in as little as 60 seconds.\\n ⓘ\\n\\n Apply now\\n \\n\\n for the CIBC Select Visa Card. Opens in a new window.\\n \\n\\n Get started\\n--------------\\n\\n Call us:\\n \\n 1-866-525-8622\\n \\n\\n Opens your phone app.\\n \\n\\n Find a Banking Centre\\n \\n\\n Opens a new window in your browser.\\n \\n\\n Meet with us\\n \\n\\n Opens a new tab in your browser\\n \\n\\n### \\n\\n Not the right card for you?\\n\\n Here's another that could suit you better.\\n \\n\\n CIBC Aventura\\n ® \\n Visa\\\\\\\\* Card\\n \\n\\n Explore all No Annual Fee cards\\n \\n\\n\\n\\n\\n Cash back cards\\n \\n\\n CIBC Dividend® Visa\\\\\\\\* Card\\n===============================\",\n",
       "   'Reward categories: least to most\\n \\n\\n\\n {{/if}}\\n \\n\\n\\n\\nFilter\\n \\n\\n\\n\\n\\nCompare\\n\\n\\n\\n\\n\\n\\n Compare:\\n----------\\n\\n\\n\\n {{#each items}}\\n \\n\\n\\n![{{title}}]({{image}})\\n\\n\\n\\n\\n {{{name}}}\\n \\n\\n\\n {{/each}}\\n {{#times remaining}}\\n \\n\\n\\n\\n\\n\\n\\n {{/times}}\\n \\nCompare{{items.length}}\\n\\n\\n\\n\\n {{description}}\\n \\n\\n\\n\\n\\n {{description}}\\n \\n\\n\\n \\n\\n Get started\\n--------------\\n\\n Apply online\\n \\n\\n for a CIBC credit card.\\n \\n\\n Meet with us\\n \\n\\n Opens a new window.\\n \\n\\n Call us:\\n \\n\\n 1-800-385-2582\\n \\n \\n\\n Opens your phone app.\\n \\n\\n Find a banking centre\\n \\n\\n Opens a new window.\\n \\n\\n popupresult\\n \\n\\n Questions?\\n \\n\\n Top credit card questions\\n \\n\\n Opens a new window in your browser.\\n \\n\\n\\n\\n\\n CREDIT CARDS\\n \\n\\n All cards\\n=============\\n\\n\\\\*\\\\*Find the best CIBC credit card for you.\\\\*\\\\*\\n\\n\\\\* Travel\\n\\\\* Cash back\\n\\\\* Costco\\n\\\\* No annual fee\\n\\\\* Low interest\\n\\\\* Student\\n\\\\* Business\\n\\\\* All cards',\n",
       "   \"Take advantage of our special offers for our chequing and savings accounts.\\n \\n\\n Explore offers\\n \\n for CIBC chequing and savings accounts.\\n \\n\\n Ways to pay\\n \\n\\n### \\n\\n Tap. Go. Enjoy.\\n\\n Enjoy the convenience of shopping in-store and online with your\\xa0mobile wallet.\\n \\n\\n Learn\\xa0more\\n \\n about mobile wallets.\\n \\n\\n Check out more offers\\n \\n\\n Why bank with CIBC?\\n----------------------\\n\\n With more than 1,100 locations, we're easy to find.\\n \\n\\n Many of our locations are open late and on weekends.\\n \\n\\n Get a free credit score instantly with our CIBC Mobile\\n \\n Banking® App.\\n \\n\\n Our mobile banking app has earned top scores for its convenience and ease\\n \\n of use.\\n \\n\\n Have foreign cash delivered for free to your home, a CIBC Banking Centre or Pearson\\xa0airport.\\n \\n\\n Send money to over 120 countries using\\xa0CIBC Global Money Transfer™ and pay no\\n \\n transfer fee.\\n \\n\\n Learn about more ways to bank\\n \\n\\n### \\n\\n Accessibility at CIBC\\n\\n What we do to make sure our products and services are accessible to all.\",\n",
       "   '\\\\* Compare All CIBC Credit Cards\\n\\\\* Credit Card Finder\\n\\\\* Rewards Credit Cards\\n\\\\* Manage My Card\\n\\\\* Tips and Advice\\n\\\\* Costco Cards\\n\\\\* How to read your credit card statement\\n\\n Refer your student friends and get up to $500.\\n \\n Learn more\\n \\n\\n Student cards\\n \\n\\n CIBC Classic Visa\\\\\\\\* Card for Students\\n==========================================\\n\\n Get the card that packs two types of insurance for no annual fee.\\n \\n\\n \\n\\n Get Purchase Security and Extended Protection, and $100,000 Common Carrier Accident Insurance.\\n ⓘ\\n\\n Apply now\\n \\n\\n for the CIBC Classic Visa Card for Students. Opens in a new window.\\n \\n\\n No minimum income requirement\\n \\n\\n $1,000 minimum credit limit\\n \\n\\n International student? You need to visit a CIBC Banking Centre in person to apply for the CIBC Classic Visa Card for Students.\\n \\n\\n Find a branch\\n \\n Opens in a new window.\\n \\n\\n Fees and interest rates\\n--------------------------\\n\\n### \\n\\n Annual fee\\n\\n $0\\n \\n\\n---\\n\\n### \\n\\n Purchase interest rate\\n ⓘ']],\n",
       " 'uris': None,\n",
       " 'data': None}"
      ]
     },
     "execution_count": 14,
     "metadata": {},
     "output_type": "execute_result"
    }
   ],
   "source": [
    "response"
   ]
  },
  {
   "cell_type": "code",
   "execution_count": 15,
   "metadata": {},
   "outputs": [],
   "source": [
    "qa_template = \"\"\"You are tasked with answering a single question given a context. If you are uncertain about the answer, simply respond 'I do not know.'\\n\\nContext: {CONTEXT}\\n\\nQuestion: {QUESTION}\"\"\"\n",
    "\n",
    "multiple_docs_template = \"\"\"Document: {DOC_NAME}\\n Content:\\n\\n```plaintext\\n{CONTENT}\\n```\"\"\""
   ]
  },
  {
   "cell_type": "code",
   "execution_count": 16,
   "metadata": {},
   "outputs": [],
   "source": [
    "context = []\n",
    "for id, doc in zip(response[\"ids\"][0], response[\"documents\"][0]):\n",
    "    context.append(multiple_docs_template.format(DOC_NAME=id, CONTENT=doc))"
   ]
  },
  {
   "cell_type": "code",
   "execution_count": 17,
   "metadata": {},
   "outputs": [
    {
     "data": {
      "text/plain": [
       "['Document: doc_4718\\n Content:\\n\\n```plaintext\\nNeed help choosing a bank account, credit card or learning about credit card rewards? These tools make it easy.\\n \\n\\n Bank account selector\\n \\n\\n Chequing, savings or both? Find out which CIBC bank account is right for you.\\n \\n\\n Credit card selector\\n \\n\\n Answer key questions to find the right credit card for\\n \\n your needs.\\n \\n\\n Credit card rewards calculator\\n \\n\\n Find out how many reward points you could be earning with a CIBC\\n \\n credit card.\\n \\n\\n Smart Advice virtual events\\n------------------------------\\n\\n Join us for our Smart Advice virtual events to learn from our experts about investing, estate planning, goal-setting and more.\\n \\n\\n View events\\n \\n\\n Ready to take charge of\\n \\n your finances?\\n--------------------------------------------\\n\\n Get in touch. We’re here\\n \\n to help.\\n \\n\\n Meet with us\\n \\n\\n Opens in a new window.\\n \\n\\n Call us\\n \\n\\n Opens in a new window.\\n \\n\\n Find a CIBC\\n \\n Banking Centre\\n \\n\\n Opens in a new window.\\n \\n\\n\\n\\n\\n Smart Advice\\n \\n\\n Tools and calculators\\n```',\n",
       " 'Document: doc_4456\\n Content:\\n\\n```plaintext\\nSelect a product to go over your options\\n--------------------------------------------\\n\\n Select a product to go over your options\\n \\n\\n CIBC credit card\\n \\n\\n Do you have a CIBC Visa\\\\\\\\*?\\n \\n\\n Yes\\n \\n\\n No\\n \\n\\n Is your card a CIBC Aventura Visa\\\\\\\\*?\\n \\n\\n Yes\\n \\n\\n No\\n \\n\\n Do you have creditor insurance on your CIBC credit card?\\n \\n\\n Yes\\n \\n\\n No\\n \\n\\n CIBC line of credit\\n \\n1 \\n\\n Do you have creditor insurance on your CIBC line of credit?\\n \\n\\n Yes\\n \\n\\n No\\n \\n\\n CIBC Overdraft Protection Service\\n \\n\\n CIBC loan\\n \\n1, 2 \\n\\n Do you have creditor insurance on your CIBC loan?\\n \\n\\n Yes\\n \\n\\n No\\n \\n\\n CIBC mortgage\\n \\n\\n Do you have creditor insurance on your CIBC mortgage?\\n \\n\\n Yes\\n \\n\\n No\\n \\n\\n Recommended solutions\\n-----------------------\\n\\n Recommended solutions\\n-------------------------\\n\\n We need a bit more information from you to make a recommendation.\\n \\n\\n Edit my answers\\n \\n\\n Explore our solutions\\n------------------------\\n```',\n",
       " 'Document: doc_749\\n Content:\\n\\n```plaintext\\n\\\\* Carry it with you in your wallet, particularly if you are travelling, in case your primary card is denied.\\n\\\\* Ensure you will still have access to credit if your wallet is lost or stolen by keeping a card at home.\\n\\n Explore credit card offers from CIBC\\n----------------------------------------\\n\\n CIBC has several types of credit cards, including those with cash back and travel rewards programs. Find the cards that best fit your needs by using the\\n \\n credit card selector tool\\n \\n . If you have questions about CIBC credit cards or need further help choosing one, you can reach a customer care representative at\\xa01-800-465-4653.\\n \\n\\n More articles\\n \\n More articles about C I B C credit cards\\n \\n\\n---\\n\\n Tools and advice\\n \\n\\\\* Credit Card Rewards\\n\\\\* How to read your credit card statement\\n\\\\* How to find the right credit card for your business\\n\\n---\\n\\n Get started\\n--------------\\n\\n Apply online\\n \\n\\n for a C I B C credit card\\n \\n\\n Call us:\\n \\n 1-800-465-4653\\n \\n\\n to apply for a C I B C credit card\\n```',\n",
       " 'Document: doc_665\\n Content:\\n\\n```plaintext\\n---\\n\\n Choose the best CIBC credit card for you\\n-------------------------------------------\\n\\n Finding the right credit card depends on your spending habits, lifestyle and financial situation. We have different card options with different benefits. Choose from travel rewards cards,\\xa0 cash back cards, student cards, and everyday use cards.\\n \\n\\n### \\n\\n Travel rewards credit cards\\n\\n A travel credit card is a great choice if you enjoy traveling. You can earn points on everyday purchases and use them towards your next\\n \\n adventure — big\\n \\n or small.\\n \\n\\n Learn more\\n \\n about travel rewards cards.\\n \\n\\n### \\n\\n Cash back credit cards\\n\\n With a cash back credit card, you can earn cash back on everyday purchases. Plus, maximize your cash back rewards when you spend on certain categories.\\n \\n\\n Learn more\\n \\n about cash back cards.\\n \\n\\n### \\n\\n No annual fee credit cards\\n```',\n",
       " 'Document: doc_624\\n Content:\\n\\n```plaintext\\nApply now\\n \\n\\n for the CIBC Dividend Platinum Visa Card. Opens in a new window.\\n \\n\\n Get started\\n--------------\\n\\n Call us:\\n \\n 1-866-525-8622\\n \\n\\n Opens your phone app.\\n \\n\\n Find a Banking Centre\\n \\n\\n Opens in a new window.\\n \\n\\n Meet with us\\n \\n\\n Opens in a new window.\\n \\n\\n Not the right card for you?\\n------------------------------\\n\\n Here are a few more that could suit you better.\\n \\n\\n CIBC Dividend\\n ® \\n Visa Infinite\\\\\\\\* Card\\n \\n\\n CIBC Dividend\\n ® \\n\\n Visa\\\\\\\\* Card\\n \\n\\n Explore all cash back cards\\n \\n\\n\\n\\n\\n Credit Cards\\n \\n\\n\\\\* Compare All CIBC Credit Cards\\n\\\\* Credit Card Finder\\n\\\\* Rewards Credit Cards\\n\\\\* Manage My Card\\n\\\\* Tips and Advice\\n\\\\* Costco Cards\\n\\\\* How to read your credit card statement\\n\\n Low Interest Cards\\n \\n\\n CIBC Select\\xa0Visa\\\\\\\\* Card\\n============================\\n\\n Reduce interest payments with a low interest rate credit card.\\n \\n\\n \\n\\n Welcome offer\\n \\n\\n Transfer your credit card balance — get 0% interest for up to 10 months with a 1% transfer fee\\n ⓘ\\n and a first year annual fee rebate\\n ⓘ\\n .\\n```',\n",
       " 'Document: doc_664\\n Content:\\n\\n```plaintext\\nApplying for a credit card is a great first step in building your credit history and improving your financial\\n \\n well-being — if\\n \\n you use your card responsibly. You can speed up the credit card application process by having the right information ready before you apply. If you’re\\xa0 not sure which card to pick, we’ll help you choose the best CIBC credit card for you.\\n \\n\\n---\\n\\n What information do I need to apply?\\n---------------------------------------\\n\\n Applying for a credit card with us is easy, but you’ll need to provide some important details first:\\n \\n\\n\\\\* Full legal name and date of birth\\n\\\\* Home address, phone number and email address\\n\\\\* Current and previous employers\\n\\\\* Gross annual income\\n\\\\* Social Insurance Number (optional)\\n\\\\* Information on other credit cards you hold\\n\\n Missing these details could delay the approval process or result in a denial. If you’re unsure of how to answer a question on your application, call us at\\n \\n 1-866-525-8622\\n \\n Opens your phone app.\\n \\n\\n .\\n```',\n",
       " \"Document: doc_632\\n Content:\\n\\n```plaintext\\nCredit Card Privacy Disclosures, Terms and Conditions\\n \\n (PDF, 125 KB)\\n \\n\\n Opens in a new window.\\n \\n\\n Information on upcoming changes to your CIBC Credit Card Account effective December 2023\\n \\n (PDF, 45 KB)\\n \\n\\n Opens in a new window.\\n \\n\\n CIBC Select Visa Card\\n \\n\\n Ready to cash in on a lower interest rate?\\n---------------------------------------------\\n\\n Applying takes about 5 minutes, and you'll get a response in as little as 60 seconds.\\n ⓘ\\n\\n Apply now\\n \\n\\n for the CIBC Select Visa Card. Opens in a new window.\\n \\n\\n Get started\\n--------------\\n\\n Call us:\\n \\n 1-866-525-8622\\n \\n\\n Opens your phone app.\\n \\n\\n Find a Banking Centre\\n \\n\\n Opens a new window in your browser.\\n \\n\\n Meet with us\\n \\n\\n Opens a new tab in your browser\\n \\n\\n### \\n\\n Not the right card for you?\\n\\n Here's another that could suit you better.\\n \\n\\n CIBC Aventura\\n ® \\n Visa\\\\\\\\* Card\\n \\n\\n Explore all No Annual Fee cards\\n \\n\\n\\n\\n\\n Cash back cards\\n \\n\\n CIBC Dividend® Visa\\\\\\\\* Card\\n===============================\\n```\",\n",
       " 'Document: doc_305\\n Content:\\n\\n```plaintext\\nReward categories: least to most\\n \\n\\n\\n {{/if}}\\n \\n\\n\\n\\nFilter\\n \\n\\n\\n\\n\\nCompare\\n\\n\\n\\n\\n\\n\\n Compare:\\n----------\\n\\n\\n\\n {{#each items}}\\n \\n\\n\\n![{{title}}]({{image}})\\n\\n\\n\\n\\n {{{name}}}\\n \\n\\n\\n {{/each}}\\n {{#times remaining}}\\n \\n\\n\\n\\n\\n\\n\\n {{/times}}\\n \\nCompare{{items.length}}\\n\\n\\n\\n\\n {{description}}\\n \\n\\n\\n\\n\\n {{description}}\\n \\n\\n\\n \\n\\n Get started\\n--------------\\n\\n Apply online\\n \\n\\n for a CIBC credit card.\\n \\n\\n Meet with us\\n \\n\\n Opens a new window.\\n \\n\\n Call us:\\n \\n\\n 1-800-385-2582\\n \\n \\n\\n Opens your phone app.\\n \\n\\n Find a banking centre\\n \\n\\n Opens a new window.\\n \\n\\n popupresult\\n \\n\\n Questions?\\n \\n\\n Top credit card questions\\n \\n\\n Opens a new window in your browser.\\n \\n\\n\\n\\n\\n CREDIT CARDS\\n \\n\\n All cards\\n=============\\n\\n\\\\*\\\\*Find the best CIBC credit card for you.\\\\*\\\\*\\n\\n\\\\* Travel\\n\\\\* Cash back\\n\\\\* Costco\\n\\\\* No annual fee\\n\\\\* Low interest\\n\\\\* Student\\n\\\\* Business\\n\\\\* All cards\\n```',\n",
       " \"Document: doc_2\\n Content:\\n\\n```plaintext\\nTake advantage of our special offers for our chequing and savings accounts.\\n \\n\\n Explore offers\\n \\n for CIBC chequing and savings accounts.\\n \\n\\n Ways to pay\\n \\n\\n### \\n\\n Tap. Go. Enjoy.\\n\\n Enjoy the convenience of shopping in-store and online with your\\xa0mobile wallet.\\n \\n\\n Learn\\xa0more\\n \\n about mobile wallets.\\n \\n\\n Check out more offers\\n \\n\\n Why bank with CIBC?\\n----------------------\\n\\n With more than 1,100 locations, we're easy to find.\\n \\n\\n Many of our locations are open late and on weekends.\\n \\n\\n Get a free credit score instantly with our CIBC Mobile\\n \\n Banking® App.\\n \\n\\n Our mobile banking app has earned top scores for its convenience and ease\\n \\n of use.\\n \\n\\n Have foreign cash delivered for free to your home, a CIBC Banking Centre or Pearson\\xa0airport.\\n \\n\\n Send money to over 120 countries using\\xa0CIBC Global Money Transfer™ and pay no\\n \\n transfer fee.\\n \\n\\n Learn about more ways to bank\\n \\n\\n### \\n\\n Accessibility at CIBC\\n\\n What we do to make sure our products and services are accessible to all.\\n```\",\n",
       " 'Document: doc_517\\n Content:\\n\\n```plaintext\\n\\\\* Compare All CIBC Credit Cards\\n\\\\* Credit Card Finder\\n\\\\* Rewards Credit Cards\\n\\\\* Manage My Card\\n\\\\* Tips and Advice\\n\\\\* Costco Cards\\n\\\\* How to read your credit card statement\\n\\n Refer your student friends and get up to $500.\\n \\n Learn more\\n \\n\\n Student cards\\n \\n\\n CIBC Classic Visa\\\\\\\\* Card for Students\\n==========================================\\n\\n Get the card that packs two types of insurance for no annual fee.\\n \\n\\n \\n\\n Get Purchase Security and Extended Protection, and $100,000 Common Carrier Accident Insurance.\\n ⓘ\\n\\n Apply now\\n \\n\\n for the CIBC Classic Visa Card for Students. Opens in a new window.\\n \\n\\n No minimum income requirement\\n \\n\\n $1,000 minimum credit limit\\n \\n\\n International student? You need to visit a CIBC Banking Centre in person to apply for the CIBC Classic Visa Card for Students.\\n \\n\\n Find a branch\\n \\n Opens in a new window.\\n \\n\\n Fees and interest rates\\n--------------------------\\n\\n### \\n\\n Annual fee\\n\\n $0\\n \\n\\n---\\n\\n### \\n\\n Purchase interest rate\\n ⓘ\\n```']"
      ]
     },
     "execution_count": 17,
     "metadata": {},
     "output_type": "execute_result"
    }
   ],
   "source": [
    "context"
   ]
  },
  {
   "cell_type": "code",
   "execution_count": null,
   "metadata": {},
   "outputs": [],
   "source": [
    "for i in range(len(context)):\n",
    "    final_prompt =  qa_template.format(CONTEXT=context[1], QUESTION=question)\n",
    "    #print(get_completion(final_prompt, temperature=0, max_tokens=256))\n",
    "    llm(final_prompt, temperature=0.5, max_tokens=256)"
   ]
  },
  {
   "cell_type": "code",
   "execution_count": null,
   "metadata": {},
   "outputs": [],
   "source": []
  }
 ],
 "metadata": {
  "kernelspec": {
   "display_name": "base",
   "language": "python",
   "name": "python3"
  },
  "language_info": {
   "codemirror_mode": {
    "name": "ipython",
    "version": 3
   },
   "file_extension": ".py",
   "mimetype": "text/x-python",
   "name": "python",
   "nbconvert_exporter": "python",
   "pygments_lexer": "ipython3",
   "version": "3.10.13"
  }
 },
 "nbformat": 4,
 "nbformat_minor": 2
}
